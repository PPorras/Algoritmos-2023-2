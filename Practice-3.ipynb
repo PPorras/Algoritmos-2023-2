{
 "cells": [
  {
   "cell_type": "markdown",
   "id": "102340a5",
   "metadata": {},
   "source": [
    "# Ejercicio 1 "
   ]
  },
  {
   "cell_type": "markdown",
   "id": "a0d53001",
   "metadata": {},
   "source": [
    "Escriba un programa que reciba y almacéne los siguiente:\n",
    "\n",
    "    * El nombre de una bacteria.\n",
    "    * El nombre de un antibiótico.\n",
    "    * Introduzca 'True' o 'False' si la bacteria es resistente al antibiótico.\n",
    "    \n",
    "Y el programa debe de regresar la siguente cadena: **Usted está intentando combatir \\<nombre de la bacteria\\>\n",
    "con \\<nombre del antibiótico\\>. La bacteria es resistente al antibiótico ( \\<True or False\\> ).**    "
   ]
  },
  {
   "cell_type": "markdown",
   "id": "13e007bc",
   "metadata": {},
   "source": [
    "## Ejemplo,"
   ]
  },
  {
   "cell_type": "markdown",
   "id": "37f3dba7",
   "metadata": {},
   "source": [
    "```python\n",
    "'Usted está intentando combatir Enterococcus faecium con vancomicina. La bacteria es resistente al antibiótico (True).'\n",
    "\n",
    "```"
   ]
  },
  {
   "cell_type": "code",
   "execution_count": null,
   "id": "7479ced5",
   "metadata": {},
   "outputs": [],
   "source": []
  },
  {
   "cell_type": "markdown",
   "id": "ce5c9cdb",
   "metadata": {},
   "source": [
    "# Ejercicio 2 "
   ]
  },
  {
   "cell_type": "markdown",
   "id": "da7573e7",
   "metadata": {},
   "source": [
    "Escriba un programa que:\n",
    "\n",
    "    * Reciba la masa de un paciente.\n",
    "    * Calcule la cantidad de anestecia que debe suministar.\n"
   ]
  },
  {
   "cell_type": "code",
   "execution_count": null,
   "id": "73132f96",
   "metadata": {},
   "outputs": [],
   "source": []
  },
  {
   "cell_type": "markdown",
   "id": "68ca0bbb",
   "metadata": {},
   "source": [
    "# Ejercicio 3 "
   ]
  },
  {
   "cell_type": "markdown",
   "id": "753dac66",
   "metadata": {},
   "source": [
    "Escriba un programa que:\n",
    "\n",
    "    * Reciba un trozo de una cadena de ARN, asegurese de:\n",
    "            * Que cada una de las letras esten separadas por un espacio.\n",
    "            * Que aminóacido inicial sea 'AUG' y el final sea un stop, para esto consulte la siguiente tabla.\n",
    "![Tabla de aminóacidos](https://www.diegocalvo.es/wp-content/uploads/2017/07/tabla-de-transformacio%CC%81n-aminoa%CC%81cidos-297x300.jpg)\n",
    "\n",
    "    * El programa debe de regresar una lista con cada una de las bases que componen a los aminóacidos.\n"
   ]
  },
  {
   "cell_type": "markdown",
   "id": "8ae33e50",
   "metadata": {},
   "source": [
    "##  Por ejemplo,"
   ]
  },
  {
   "cell_type": "markdown",
   "id": "c17f8c12",
   "metadata": {},
   "source": [
    "si la cadena que recibe es:\n",
    "```python\n",
    "'A U G G A U C G U C C C U A A'\n",
    "```\n",
    "\n",
    "Debe de regresar:\n",
    "\n",
    "```python\n",
    "['A', 'U', 'G', 'G', 'A', 'U', 'C', 'G', 'U', 'C', 'C', 'C', 'U', 'A', 'A']\n",
    "```"
   ]
  },
  {
   "cell_type": "code",
   "execution_count": null,
   "id": "56c4186e",
   "metadata": {},
   "outputs": [],
   "source": []
  },
  {
   "cell_type": "markdown",
   "id": "3cb25d8f",
   "metadata": {},
   "source": [
    "# Ejercicio 4. "
   ]
  },
  {
   "cell_type": "markdown",
   "id": "e675b1ea",
   "metadata": {},
   "source": [
    "Escriba un diccionario que se llame `aminos`, y este tenga como clave el codón y como valor el nombre del aminóacido. "
   ]
  },
  {
   "cell_type": "markdown",
   "id": "e96f4c1c",
   "metadata": {},
   "source": [
    "## Ejemplo,"
   ]
  },
  {
   "cell_type": "markdown",
   "id": "7f1c95e0",
   "metadata": {},
   "source": [
    "```python\n",
    "aminos['UUU']\n",
    "```\n",
    "regrese\n",
    "```python\n",
    "'Phe'\n",
    "```"
   ]
  },
  {
   "cell_type": "markdown",
   "id": "8602c8ff",
   "metadata": {},
   "source": [
    "Con lo anterior escriba un programa que reciba un codón y regrese el nombre de aminóacido."
   ]
  },
  {
   "cell_type": "code",
   "execution_count": null,
   "id": "55b3d400",
   "metadata": {},
   "outputs": [],
   "source": []
  },
  {
   "cell_type": "markdown",
   "id": "ad17a834",
   "metadata": {},
   "source": [
    "# Ejercicio 5 "
   ]
  },
  {
   "cell_type": "markdown",
   "id": "5fd3e934",
   "metadata": {},
   "source": [
    "Escriba un programa una secuencia de ARN y haga la transcripción a ADN. "
   ]
  },
  {
   "cell_type": "code",
   "execution_count": null,
   "id": "07a8bcb1",
   "metadata": {},
   "outputs": [],
   "source": []
  }
 ],
 "metadata": {
  "kernelspec": {
   "display_name": "Python 3 (ipykernel)",
   "language": "python",
   "name": "python3"
  },
  "language_info": {
   "codemirror_mode": {
    "name": "ipython",
    "version": 3
   },
   "file_extension": ".py",
   "mimetype": "text/x-python",
   "name": "python",
   "nbconvert_exporter": "python",
   "pygments_lexer": "ipython3",
   "version": "3.9.13"
  }
 },
 "nbformat": 4,
 "nbformat_minor": 5
}
